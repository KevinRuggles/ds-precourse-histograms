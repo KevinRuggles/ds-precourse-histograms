{
 "cells": [
  {
   "cell_type": "markdown",
   "metadata": {},
   "source": [
    "# Historgrams\n",
    "---"
   ]
  },
  {
   "cell_type": "markdown",
   "metadata": {},
   "source": [
    "## Challenges\n",
    "\n",
    "For the lessons on plotting in DSI precourse, instead of doing regular challenges - you're being asked to write the code to make some basic plots in this Jupyter Notebook before committing your work and submitting the URL to your repository.\n",
    "\n",
    "To do so, you must be sure to first fork and clone this repo, and if you aren't sure how to do that, you can look back to those instructions [here.](https://learn-2.galvanize.com/content_link/github/gSchool/dsi-prep-module-setup/units/04_github/03_fork_clone_pull.md)\n",
    "\n",
    "The completion of this module requires a basic understanding of numpy, pandas, and matplotlib.pyplot. Please **_do not_** use any of the pandas built-in visualization tools.\n",
    "\n",
    "Lastly, you'll need to execute the cells with existing code to import the modules, and the data."
   ]
  },
  {
   "cell_type": "markdown",
   "metadata": {},
   "source": [
    "### Challenge 1\n",
    "\n",
    "For this challenge you will be using the linnerud data set to build histograms. This challenge will require you to make three different histograms.\n",
    "\n",
    "The next cells load and show the two different data sets, both as pandas dataframes. Run the cells to load the data sets and display the data sets."
   ]
  },
  {
   "cell_type": "code",
   "execution_count": 36,
   "metadata": {},
   "outputs": [],
   "source": [
    "# loading the data sets\n",
    "from sklearn.datasets import load_linnerud\n",
    "import matplotlib.pyplot as plt\n",
    "import numpy as np\n",
    "\n",
    "dfex = load_linnerud(as_frame = True)['data']\n",
    "dfph = load_linnerud(as_frame = True)['target']"
   ]
  },
  {
   "cell_type": "code",
   "execution_count": 37,
   "metadata": {},
   "outputs": [
    {
     "data": {
      "image/png": "[encoded data removed]",
      "text/plain": [
       "<Figure size 432x288 with 1 Axes>"
      ]
     },
     "metadata": {
      "needs_background": "light"
     },
     "output_type": "display_data"
    }
   ],
   "source": [
    "# run to display the data set\n",
    "# 'Chins', 'Situps', 'Jumps'\n",
    "\n",
    "\n",
    "plt.hist(dfex.Chins)\n",
    "# plt.hist(dfph.Weight)\n",
    "plt.show()"
   ]
  },
  {
   "cell_type": "code",
   "execution_count": 13,
   "metadata": {},
   "outputs": [
    {
     "data": {
      "image/png": "[encoded data removed]",
      "text/plain": [
       "<Figure size 432x288 with 1 Axes>"
      ]
     },
     "metadata": {
      "needs_background": "light"
     },
     "output_type": "display_data"
    }
   ],
   "source": [
    "# run to display the data set\n",
    "# plt.hist(physical)\n",
    "plt.hist(dfex.Situps)\n",
    "plt.show()\n",
    "# print ( [ x for x in physical])\n",
    "# ['Weight', 'Waist', 'Pulse']"
   ]
  },
  {
   "cell_type": "markdown",
   "metadata": {},
   "source": [
    "For the three historgrams there must be one of the following:\n",
    "* Must make a histogram from atleast one column from each of the data sets\n",
    "* One histogram must use the defualt number of bins\n",
    "* One histogram must use a number of bins you set, to display the data better\n",
    "* One histogram must be just the outline of the bars\n",
    "* One histogram must set the color to be different than the defualt color\n",
    "* One histogram should have a different color outline than the bar color\n",
    "\n",
    "Along with that, each histogram must:\n",
    "* Have a descriptive title\n",
    "* Have the x and y axis labeled"
   ]
  },
  {
   "cell_type": "code",
   "execution_count": 55,
   "metadata": {},
   "outputs": [
    {
     "data": {
      "image/png": "[encoded data removed]",
      "text/plain": [
       "<Figure size 432x288 with 1 Axes>"
      ]
     },
     "metadata": {
      "needs_background": "light"
     },
     "output_type": "display_data"
    }
   ],
   "source": [
    "# Must make a histogram from atleast one column from each of the data sets\n",
    "# Jumps Weight, Waist\n",
    "\n",
    "# * Have a descriptive title\n",
    "plt.title('Exercise')\n",
    "\n",
    "\n",
    "# One histogram must use the default number of bins\n",
    "# One histogram must set the color to be different than the defualt color\n",
    "# One histogram should have a different color outline than the bar color\n",
    "plt.hist(dfex.Jumps,color='green', edgecolor='black',)\n",
    "\n",
    "\n",
    "        \n",
    "# One histogram must use a number of bins you set, to display the data better \n",
    "# One histogram must be just the outline of the bars\n",
    "# plt.hist(dfph.Weight,bins=25 ,histtype='step')\n",
    "\n",
    "# * Have the x and y axis labeled\n",
    "plt.xlabel('Jumps')\n",
    "plt.ylabel('Number of People')\n",
    "plt.show() "
   ]
  },
  {
   "cell_type": "markdown",
   "metadata": {},
   "source": [
    "1. Once you're happy with your plot, paste your code in the cell below. Replace `plt.show()` with `plt.savefig('../images/hist_plot1.png')` and execute the cell to export the image to a file\n",
    "\n",
    "This is a technique that is not shown in the lesson, but is perhaps the most common way that you might create an image which you are able to share or implement in a presentation."
   ]
  },
  {
   "cell_type": "code",
   "execution_count": 56,
   "metadata": {},
   "outputs": [
    {
     "data": {
      "text/plain": [
       "<Figure size 432x288 with 0 Axes>"
      ]
     },
     "metadata": {},
     "output_type": "display_data"
    }
   ],
   "source": [
    "plt.savefig('../images/hist_plot1.png')"
   ]
  },
  {
   "cell_type": "markdown",
   "metadata": {},
   "source": [
    "---"
   ]
  },
  {
   "cell_type": "code",
   "execution_count": 57,
   "metadata": {},
   "outputs": [
    {
     "data": {
      "image/png": "[encoded data removed]",
      "text/plain": [
       "<Figure size 432x288 with 1 Axes>"
      ]
     },
     "metadata": {
      "needs_background": "light"
     },
     "output_type": "display_data"
    }
   ],
   "source": [
    "plt.title('Physical metrics')\n",
    "\n",
    "plt.hist(dfph.Weight,  bins=10)\n",
    "\n",
    "plt.xlabel('Weight ')\n",
    "plt.ylabel('Number of People')\n",
    "plt.show()  "
   ]
  },
  {
   "cell_type": "markdown",
   "metadata": {},
   "source": [
    "1. Once you're happy with your plot, paste your code in the cell below. Replace `plt.show()` with `plt.savefig('../images/hist_plot2.png')` and execute the cell to export the image to a file\n",
    "\n",
    "This is a technique that is not shown in the lesson, but is perhaps the most common way that you might create an image which you are able to share or implement in a presentation."
   ]
  },
  {
   "cell_type": "code",
   "execution_count": 58,
   "metadata": {},
   "outputs": [
    {
     "data": {
      "text/plain": [
       "<Figure size 432x288 with 0 Axes>"
      ]
     },
     "metadata": {},
     "output_type": "display_data"
    }
   ],
   "source": [
    "plt.savefig('../images/hist_plot2.png')"
   ]
  },
  {
   "cell_type": "markdown",
   "metadata": {},
   "source": [
    "---"
   ]
  },
  {
   "cell_type": "code",
   "execution_count": 59,
   "metadata": {},
   "outputs": [
    {
     "data": {
      "image/png": "[encoded data removed]",
      "text/plain": [
       "<Figure size 432x288 with 1 Axes>"
      ]
     },
     "metadata": {
      "needs_background": "light"
     },
     "output_type": "display_data"
    }
   ],
   "source": [
    "plt.title('Physical metrics')\n",
    "\n",
    "plt.hist(dfph.Waist, histtype='step', bins=50)\n",
    "plt.xlabel('Waist')\n",
    "plt.ylabel('Number of People')\n",
    "plt.show()  "
   ]
  },
  {
   "cell_type": "markdown",
   "metadata": {},
   "source": [
    "1. Once you're happy with your plot, paste your code in the cell below. Replace `plt.show()` with `plt.savefig('../images/hist_plot2.png')` and execute the cell to export the image to a file\n",
    "\n",
    "This is a technique that is not shown in the lesson, but is perhaps the most common way that you might create an image which you are able to share or implement in a presentation."
   ]
  },
  {
   "cell_type": "code",
   "execution_count": 60,
   "metadata": {},
   "outputs": [
    {
     "data": {
      "text/plain": [
       "<Figure size 432x288 with 0 Axes>"
      ]
     },
     "metadata": {},
     "output_type": "display_data"
    }
   ],
   "source": [
    "plt.savefig('../images/hist_plot3.png')"
   ]
  },
  {
   "cell_type": "code",
   "execution_count": null,
   "metadata": {},
   "outputs": [],
   "source": []
  }
 ],
 "metadata": {
  "kernelspec": {
   "display_name": "Python 3",
   "language": "python",
   "name": "python3"
  },
  "language_info": {
   "codemirror_mode": {
    "name": "ipython",
    "version": 3
   },
   "file_extension": ".py",
   "mimetype": "text/x-python",
   "name": "python",
   "nbconvert_exporter": "python",
   "pygments_lexer": "ipython3",
   "version": "3.8.5"
  }
 },
 "nbformat": 4,
 "nbformat_minor": 4
}
